{
  "nbformat": 4,
  "nbformat_minor": 0,
  "metadata": {
    "colab": {
      "provenance": [],
      "authorship_tag": "ABX9TyMEYELwTs8ZL50P2aFIkq0r",
      "include_colab_link": true
    },
    "kernelspec": {
      "name": "python3",
      "display_name": "Python 3"
    },
    "language_info": {
      "name": "python"
    }
  },
  "cells": [
    {
      "cell_type": "markdown",
      "metadata": {
        "id": "view-in-github",
        "colab_type": "text"
      },
      "source": [
        "<a href=\"https://colab.research.google.com/github/Hult-Data-Science-R/AI_course_building_LLM/blob/main/(_6)_Llama_asking_random_questions.ipynb\" target=\"_parent\"><img src=\"https://colab.research.google.com/assets/colab-badge.svg\" alt=\"Open In Colab\"/></a>"
      ]
    },
    {
      "cell_type": "code",
      "execution_count": 4,
      "metadata": {
        "colab": {
          "base_uri": "https://localhost:8080/"
        },
        "id": "VPCbivrJGW-5",
        "outputId": "22c622f7-30e9-4f25-d898-04e5661b0311"
      },
      "outputs": [
        {
          "output_type": "stream",
          "name": "stdout",
          "text": [
            "ChatCompletionOutputMessage(role='assistant', content=\"San Francisco is a hub for diverse industries, including technology, healthcare, finance, and education. As a student, it's essential to choose courses that align with your interests and career goals. Here's a suggested course outline for a student in San Francisco:\\n\\n**General Education Courses**\\n\\n1. English Composition (ENG 101): A foundational course that develops writing and critical thinking skills.\\n2. Psychology (PSY 101): Helps you understand human behavior and develop empathy.\\n3. Sociology (SOC 101): Explores social structures, relationships, and institutions.\\n4. Introduction to Computer Science (CS 101): A beginner's course that introduces programming concepts.\\n5. Statistics (STAT 101): Essential for data analysis and decision-making.\\n\\n**STEM Courses**\\n\\n1. Calculus (MATH 101): A fundamental course for mathematics and problem-solving.\\n2. Physics (PHYS 101): Explains the fundamental laws of the universe.\\n3. Computer Science (CS 201): Develops programming skills and programming languages.\\n4. Data Analysis (STAT 201): Introduces data visualization and statistical techniques.\\n\\n**Healthcare and Social Impact Courses**\\n\\n1. Health Disparities (HEAL 101): Examines health disparities and their causes.\\n2. Healthcare Management (HCM 101): Teaches the principles of healthcare management.\\n3. Social Work (SWK 101): Introduces social work theory and practice.\\n4. Public Health (PHL 101): Explains the science behind public health and disease prevention.\\n\\n**Creative and Artistic Courses**\\n\\n1. Visual Arts (ART 101): Develops your artistic expression and creativity.\\n2. Creative Writing (WRT 101): Encourages writing and storytelling.\\n3. Photography (PHO 101): Introduces photography techniques and editing.\\n4. Music (MUS 101): Explores music theory and performance.\\n\\n**Business and Entrepreneurship Courses**\\n\\n1. Business Principles (BMB 101): Teaches business concepts and practices.\\n2. Marketing (MKT 101): Introduces marketing theories and strategies.\\n3. Entrepreneurship (ENT 101): Encourages entrepreneurial thinking and innovation.\\n4. International Business (IBS 101): Examines global business and trade.\\n\\n**Online Courses and Certifications**\\n\\nConsider taking online courses or certifications that align with your interests and career goals, such as:\\n\\n* Cybersecurity certifications (e.g., CompTIA Security+)\\n* Data Science certifications (e.g., Data Science with Python)\\n* Online courses in graphic design, web development, or digital marketing.\\n\\n**Additional Tips**\\n\\n* Research local colleges and universities that offer courses and programs that align with your interests.\\n* Consider taking a mix of general education, STEM, and specialized courses to create a well-rounded curriculum.\\n* Join online communities, clubs, or organizations to connect with peers and professionals in your field.\\n* Use online resources, such as Coursera, edX, and Udemy, to access a wide range of courses at your convenience.\\n\\nThis is just a general outline, and you should adjust it according to your interests, career goals, and schedule.\", tool_call_id=None, tool_calls=None)\n"
          ]
        }
      ],
      "source": [
        "import os\n",
        "from huggingface_hub import InferenceClient\n",
        "\n",
        "client = InferenceClient(\n",
        "    provider=\"novita\",\n",
        "    api_key=\"xxxx\",\n",
        ")\n",
        "\n",
        "completion = client.chat.completions.create(\n",
        "    model=\"meta-llama/Llama-3.2-1B-Instruct\",\n",
        "    messages=[\n",
        "        {\n",
        "            \"role\": \"user\",\n",
        "            \"content\": \"What courses should a student in San Francisco take?\"\n",
        "        }\n",
        "    ],\n",
        ")\n",
        "\n",
        "print(completion.choices[0].message)"
      ]
    },
    {
      "cell_type": "code",
      "source": [
        "#Team exercise: Each person opens a Hugging Face account and create a HF TOKEN under SETTINGS\n",
        "# Once you have a token, choose a relevant question for yourself (each person in a team)\n",
        "# Take a look at the answer - is it good quality\n",
        "\n",
        "# IMPORTANT: compare answer quality between team members in your team."
      ],
      "metadata": {
        "id": "AqFtR8qgHcmv"
      },
      "execution_count": null,
      "outputs": []
    }
  ]
}